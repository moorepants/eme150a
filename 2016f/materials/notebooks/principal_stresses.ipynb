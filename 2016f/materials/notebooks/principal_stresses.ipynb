{
 "cells": [
  {
   "cell_type": "markdown",
   "metadata": {},
   "source": [
    "# Finding Principal Stresses and Directions\n",
    "\n",
    "This notebooks shows how you use eigenvalue computations to determine the principal stresses and directions for an example state of stress at a point."
   ]
  },
  {
   "cell_type": "markdown",
   "metadata": {},
   "source": [
    "First import a number of functions from NumPy that will be useful. The most important is te `eig` function which will compute the eigenvalues and eigenvectors."
   ]
  },
  {
   "cell_type": "code",
   "execution_count": 1,
   "metadata": {
    "collapsed": false
   },
   "outputs": [],
   "source": [
    "from numpy import array, pi, dot, sqrt, arccos, rad2deg\n",
    "from numpy.linalg import eig"
   ]
  },
  {
   "cell_type": "markdown",
   "metadata": {},
   "source": [
    "We will use the stress tensor we found in the multi-axial stress example in lecture 8. First define some values for the geometry and the applied load."
   ]
  },
  {
   "cell_type": "code",
   "execution_count": 2,
   "metadata": {
    "collapsed": true
   },
   "outputs": [],
   "source": [
    "D = 0.5  # in\n",
    "d = 0.25  # in\n",
    "a = 5  # in\n",
    "b = 4  # in\n",
    "P = 10  # lb"
   ]
  },
  {
   "cell_type": "markdown",
   "metadata": {},
   "source": [
    "The max bending and torsional stresses act at a distance $r$ from the neutral axis."
   ]
  },
  {
   "cell_type": "code",
   "execution_count": 3,
   "metadata": {
    "collapsed": false
   },
   "outputs": [
    {
     "data": {
      "text/plain": [
       "0.25"
      ]
     },
     "execution_count": 3,
     "metadata": {},
     "output_type": "execute_result"
    }
   ],
   "source": [
    "r = D / 2\n",
    "r"
   ]
  },
  {
   "cell_type": "markdown",
   "metadata": {},
   "source": [
    "The second moment of area and polar second moment of area of a tubular cross section is:"
   ]
  },
  {
   "cell_type": "code",
   "execution_count": 4,
   "metadata": {
    "collapsed": false
   },
   "outputs": [
    {
     "data": {
      "text/plain": [
       "0.002876213977285577"
      ]
     },
     "execution_count": 4,
     "metadata": {},
     "output_type": "execute_result"
    }
   ],
   "source": [
    "I = pi / 64 * (D**4 - d**4)\n",
    "I"
   ]
  },
  {
   "cell_type": "code",
   "execution_count": 5,
   "metadata": {
    "collapsed": false
   },
   "outputs": [
    {
     "data": {
      "text/plain": [
       "0.005752427954571154"
      ]
     },
     "execution_count": 5,
     "metadata": {},
     "output_type": "execute_result"
    }
   ],
   "source": [
    "J = pi / 32 * (D**4 - d**4)\n",
    "J"
   ]
  },
  {
   "cell_type": "markdown",
   "metadata": {},
   "source": [
    "Now form the Cauchy Stress Tensor:\n",
    "\n",
    "$$\n",
    "\\sigma =\n",
    "\\begin{bmatrix}\n",
    "0 & 0 & \\frac{Pbr}{J} \\\\\n",
    "0 & 0 & 0 \\\\\n",
    "\\frac{Pbr}{J} & 0 & \\frac{Par}{I}\n",
    "\\end{bmatrix}\n",
    "$$"
   ]
  },
  {
   "cell_type": "code",
   "execution_count": 6,
   "metadata": {
    "collapsed": false
   },
   "outputs": [
    {
     "data": {
      "text/plain": [
       "array([[    0.        ,     0.        ,  1738.39639175],\n",
       "       [    0.        ,     0.        ,     0.        ],\n",
       "       [ 1738.39639175,     0.        ,  4345.99097936]])"
      ]
     },
     "execution_count": 6,
     "metadata": {},
     "output_type": "execute_result"
    }
   ],
   "source": [
    "sigma = array([[0,             0, P * b * r / J],\n",
    "               [0,             0, 0            ],\n",
    "               [P * b * r / J, 0, P * a * r / I]])\n",
    "sigma"
   ]
  },
  {
   "cell_type": "markdown",
   "metadata": {},
   "source": [
    "Now we can use the `eig` function to find the principal stresses (eigenvalues) and principal directions (eigenvectors) of the stress tensor."
   ]
  },
  {
   "cell_type": "code",
   "execution_count": 7,
   "metadata": {
    "collapsed": false
   },
   "outputs": [],
   "source": [
    "eig?"
   ]
  },
  {
   "cell_type": "code",
   "execution_count": 8,
   "metadata": {
    "collapsed": false
   },
   "outputs": [],
   "source": [
    "evals, evecs = eig(sigma)"
   ]
  },
  {
   "cell_type": "markdown",
   "metadata": {},
   "source": [
    "The eigenvalues are given in arbitrary order, but each value corresponds to the column in the eigenvector array where both follow the same order."
   ]
  },
  {
   "cell_type": "code",
   "execution_count": 9,
   "metadata": {
    "collapsed": false
   },
   "outputs": [
    {
     "data": {
      "text/plain": [
       "array([ -609.79652788,  4955.78750724,     0.        ])"
      ]
     },
     "execution_count": 9,
     "metadata": {},
     "output_type": "execute_result"
    }
   ],
   "source": [
    "evals"
   ]
  },
  {
   "cell_type": "code",
   "execution_count": 10,
   "metadata": {
    "collapsed": false
   },
   "outputs": [
    {
     "data": {
      "text/plain": [
       "array([[-0.94362832, -0.33100694,  0.        ],\n",
       "       [ 0.        ,  0.        ,  1.        ],\n",
       "       [ 0.33100694, -0.94362832,  0.        ]])"
      ]
     },
     "execution_count": 10,
     "metadata": {},
     "output_type": "execute_result"
    }
   ],
   "source": [
    "evecs"
   ]
  },
  {
   "cell_type": "markdown",
   "metadata": {},
   "source": [
    "Note that the eigenvectors are of unit length. For example, the magnitude of the first eigenvector is:"
   ]
  },
  {
   "cell_type": "code",
   "execution_count": 11,
   "metadata": {
    "collapsed": false
   },
   "outputs": [
    {
     "data": {
      "text/plain": [
       "0.99999999999999989"
      ]
     },
     "execution_count": 11,
     "metadata": {},
     "output_type": "execute_result"
    }
   ],
   "source": [
    "sqrt(sum(evecs[:, 0]**2))"
   ]
  },
  {
   "cell_type": "markdown",
   "metadata": {},
   "source": [
    "Note also that we have one zero eigenvalue that corresponds to the $y$ axis. This indicates that we have planar stress in the $xz$ plane."
   ]
  },
  {
   "cell_type": "markdown",
   "metadata": {},
   "source": [
    "The angle of the principal direction vector $\\hat{\\mathbf{v}}$ with respect to the $\\hat{\\mathbf{x}}$ unit vector can be found using:\n",
    "\n",
    "$$\n",
    "\\theta = \\arccos{\\hat{\\mathbf{v}} \\cdot \\hat{\\mathbf{x}}}\n",
    "$$"
   ]
  },
  {
   "cell_type": "code",
   "execution_count": 12,
   "metadata": {
    "collapsed": false
   },
   "outputs": [
    {
     "data": {
      "text/plain": [
       "160.67009587295496"
      ]
     },
     "execution_count": 12,
     "metadata": {},
     "output_type": "execute_result"
    }
   ],
   "source": [
    "xhat = array([1, 0, 0])\n",
    "v3 = evecs[:, 0]\n",
    "theta3 = arccos(dot(v3, xhat))\n",
    "rad2deg(theta3)"
   ]
  },
  {
   "cell_type": "code",
   "execution_count": 13,
   "metadata": {
    "collapsed": false
   },
   "outputs": [
    {
     "data": {
      "text/plain": [
       "250.67009587295496"
      ]
     },
     "execution_count": 13,
     "metadata": {},
     "output_type": "execute_result"
    }
   ],
   "source": [
    "xhat = array([1, 0, 0])\n",
    "v1 = evecs[:, 1]\n",
    "theta1 = 2 * pi - arccos(dot(v1, xhat))\n",
    "rad2deg(theta1)"
   ]
  },
  {
   "cell_type": "markdown",
   "metadata": {},
   "source": [
    "The principal directions should be orthogonal, i.e. $90^\\circ$ apart."
   ]
  },
  {
   "cell_type": "code",
   "execution_count": 14,
   "metadata": {
    "collapsed": false
   },
   "outputs": [
    {
     "data": {
      "text/plain": [
       "90.0"
      ]
     },
     "execution_count": 14,
     "metadata": {},
     "output_type": "execute_result"
    }
   ],
   "source": [
    "rad2deg(theta1) - rad2deg(theta3)"
   ]
  }
 ],
 "metadata": {
  "anaconda-cloud": {},
  "kernelspec": {
   "display_name": "Python [conda root]",
   "language": "python",
   "name": "conda-root-py"
  },
  "language_info": {
   "codemirror_mode": {
    "name": "ipython",
    "version": 3
   },
   "file_extension": ".py",
   "mimetype": "text/x-python",
   "name": "python",
   "nbconvert_exporter": "python",
   "pygments_lexer": "ipython3",
   "version": "3.5.2"
  }
 },
 "nbformat": 4,
 "nbformat_minor": 1
}
