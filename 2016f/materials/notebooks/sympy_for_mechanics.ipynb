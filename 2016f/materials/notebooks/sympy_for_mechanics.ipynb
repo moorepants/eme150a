{
 "cells": [
  {
   "cell_type": "markdown",
   "metadata": {},
   "source": [
    "# SymPy Basics\n",
    "\n",
    "- sympy.org\n",
    "- Jupyter basics\n",
    "- init_printing\n",
    "- printing expressions\n",
    "- defining variables\n",
    "- assumptions\n",
    "- creating expressions\n",
    "- differentiation\n",
    "- integrating (indef, def)\n",
    "- solve\n",
    "- subs\n",
    "- evalf\n",
    "- units\n",
    "- lambdify\n",
    "\n",
    "You can learn much more in the SymPy tutorial: http://docs.sympy.org/latest/tutorial/"
   ]
  },
  {
   "cell_type": "markdown",
   "metadata": {},
   "source": [
    "The following imports all top level functions, variables, classes available in [SymPy](http://www.sympy.org)."
   ]
  },
  {
   "cell_type": "code",
   "execution_count": 1,
   "metadata": {
    "collapsed": true
   },
   "outputs": [],
   "source": [
    "from sympy import *"
   ]
  },
  {
   "cell_type": "markdown",
   "metadata": {},
   "source": [
    "`init_printing()` is a function that enables pretty mathmatical renderings of the symbols and expressions."
   ]
  },
  {
   "cell_type": "code",
   "execution_count": 2,
   "metadata": {
    "collapsed": true
   },
   "outputs": [],
   "source": [
    "init_printing()"
   ]
  },
  {
   "cell_type": "markdown",
   "metadata": {},
   "source": [
    "You can create symbols to work with using the `symbols()` function."
   ]
  },
  {
   "cell_type": "code",
   "execution_count": 3,
   "metadata": {
    "collapsed": true
   },
   "outputs": [],
   "source": [
    "a, b, c, o = symbols('a, b, c, omega_n')"
   ]
  },
  {
   "cell_type": "markdown",
   "metadata": {},
   "source": [
    "To display symbols and expressions, type the variable name and press `shift + enter`."
   ]
  },
  {
   "cell_type": "code",
   "execution_count": 4,
   "metadata": {
    "collapsed": false
   },
   "outputs": [
    {
     "data": {
      "image/png": "[encoded data removed]",
      "text/latex": [
       "$$\\left ( a, \\quad b, \\quad c, \\quad \\omega_{n}\\right )$$"
      ],
      "text/plain": [
       "(a, b, c, ωₙ)"
      ]
     },
     "execution_count": 4,
     "metadata": {},
     "output_type": "execute_result"
    }
   ],
   "source": [
    "a, b, c, o"
   ]
  },
  {
   "cell_type": "markdown",
   "metadata": {},
   "source": [
    "You can create functions like so with the `Function` class."
   ]
  },
  {
   "cell_type": "code",
   "execution_count": 5,
   "metadata": {
    "collapsed": true
   },
   "outputs": [],
   "source": [
    "f = Function('f')(a)"
   ]
  },
  {
   "cell_type": "code",
   "execution_count": 6,
   "metadata": {
    "collapsed": false
   },
   "outputs": [
    {
     "data": {
      "image/png": "[encoded data removed]",
      "text/latex": [
       "$$f{\\left (a \\right )}$$"
      ],
      "text/plain": [
       "f(a)"
      ]
     },
     "execution_count": 6,
     "metadata": {},
     "output_type": "execute_result"
    }
   ],
   "source": [
    "f"
   ]
  },
  {
   "cell_type": "markdown",
   "metadata": {},
   "source": [
    "The `diff()` function takes derivatives with respect to any variable."
   ]
  },
  {
   "cell_type": "code",
   "execution_count": 7,
   "metadata": {
    "collapsed": false
   },
   "outputs": [
    {
     "data": {
      "image/png": "[encoded data removed]",
      "text/latex": [
       "$$\\frac{d}{d a} f{\\left (a \\right )}$$"
      ],
      "text/plain": [
       "d       \n",
       "──(f(a))\n",
       "da      "
      ]
     },
     "execution_count": 7,
     "metadata": {},
     "output_type": "execute_result"
    }
   ],
   "source": [
    "diff(f, a)"
   ]
  },
  {
   "cell_type": "markdown",
   "metadata": {},
   "source": [
    "Expressions are created by using math opeators and functions. Note that `**` is exponentiation in Python."
   ]
  },
  {
   "cell_type": "code",
   "execution_count": 8,
   "metadata": {
    "collapsed": false
   },
   "outputs": [
    {
     "data": {
      "image/png": "[encoded data removed]",
      "text/latex": [
       "$$a^{2} + \\frac{b}{2} - 5 \\omega_{n}^{0.5}$$"
      ],
      "text/plain": [
       " 2   b       0.5\n",
       "a  + ─ - 5⋅ωₙ   \n",
       "     2          "
      ]
     },
     "execution_count": 8,
     "metadata": {},
     "output_type": "execute_result"
    }
   ],
   "source": [
    "expr = a**2 + b / 2 - 5 * o**(1/2)\n",
    "expr"
   ]
  },
  {
   "cell_type": "markdown",
   "metadata": {},
   "source": [
    "Partial derivatives are easy with:"
   ]
  },
  {
   "cell_type": "code",
   "execution_count": 9,
   "metadata": {
    "collapsed": false
   },
   "outputs": [
    {
     "data": {
      "image/png": "[encoded data removed]",
      "text/latex": [
       "$$- \\frac{2.5}{\\omega_{n}^{0.5}}$$"
      ],
      "text/plain": [
       "       -0.5\n",
       "-2.5⋅ωₙ    "
      ]
     },
     "execution_count": 9,
     "metadata": {},
     "output_type": "execute_result"
    }
   ],
   "source": [
    "diff(expr, o)"
   ]
  },
  {
   "cell_type": "markdown",
   "metadata": {},
   "source": [
    "Indefinite integrals can also be computed:"
   ]
  },
  {
   "cell_type": "code",
   "execution_count": 10,
   "metadata": {
    "collapsed": false
   },
   "outputs": [
    {
     "data": {
      "image/png": "[encoded data removed]",
      "text/latex": [
       "$$a^{2} \\omega_{n} + \\frac{b \\omega_{n}}{2} - 3.33333333333333 \\omega_{n}^{1.5}$$"
      ],
      "text/plain": [
       " 2      b⋅ωₙ                      1.5\n",
       "a ⋅ωₙ + ──── - 3.33333333333333⋅ωₙ   \n",
       "         2                           "
      ]
     },
     "execution_count": 10,
     "metadata": {},
     "output_type": "execute_result"
    }
   ],
   "source": [
    "integrate(expr, o)"
   ]
  },
  {
   "cell_type": "markdown",
   "metadata": {},
   "source": [
    "SymPy assumes that all variables are complex by default. You may want to ensure that variables are real to make sure some of the special functions work as expected."
   ]
  },
  {
   "cell_type": "code",
   "execution_count": 11,
   "metadata": {
    "collapsed": true
   },
   "outputs": [],
   "source": [
    "v = symbols('v', real=True)"
   ]
  },
  {
   "cell_type": "markdown",
   "metadata": {},
   "source": [
    "You can also add other assumptions to the variables. Some of these will ensure that basic simplifications occur."
   ]
  },
  {
   "cell_type": "code",
   "execution_count": 12,
   "metadata": {
    "collapsed": false
   },
   "outputs": [
    {
     "data": {
      "image/png": "[encoded data removed]",
      "text/latex": [
       "$$\\sqrt{v^{v}}$$"
      ],
      "text/plain": [
       "   ____\n",
       "  ╱  v \n",
       "╲╱  v  "
      ]
     },
     "execution_count": 12,
     "metadata": {},
     "output_type": "execute_result"
    }
   ],
   "source": [
    "v = symbols('v')\n",
    "sqrt(v**v)"
   ]
  },
  {
   "cell_type": "code",
   "execution_count": 13,
   "metadata": {
    "collapsed": false
   },
   "outputs": [
    {
     "data": {
      "image/png": "[encoded data removed]",
      "text/latex": [
       "$$v$$"
      ],
      "text/plain": [
       "v"
      ]
     },
     "execution_count": 13,
     "metadata": {},
     "output_type": "execute_result"
    }
   ],
   "source": [
    "v = symbols('v', positive=True)\n",
    "sqrt(v**2)"
   ]
  },
  {
   "cell_type": "markdown",
   "metadata": {},
   "source": [
    "# Solving Systems of Equations\n",
    "\n",
    "This is how you define a function in Python. Note that indentation of 4 spaces matters! We will use this function to print equations."
   ]
  },
  {
   "cell_type": "code",
   "execution_count": 14,
   "metadata": {
    "collapsed": true
   },
   "outputs": [],
   "source": [
    "def print_eq(sym, expr):\n",
    "    return Eq(sympify(sym), expr)"
   ]
  },
  {
   "cell_type": "markdown",
   "metadata": {},
   "source": [
    "This system of two algebraic equations with the unknowns $R_1$ and $R_2$ (from beam problem in notes) can be solved easily with SymPy:"
   ]
  },
  {
   "cell_type": "code",
   "execution_count": 15,
   "metadata": {
    "collapsed": true
   },
   "outputs": [],
   "source": [
    "R1, R2, F, w, l, a, c, d, M = symbols('R1, R2, F, w, l, a, c, d, M')"
   ]
  },
  {
   "cell_type": "code",
   "execution_count": 16,
   "metadata": {
    "collapsed": false
   },
   "outputs": [
    {
     "data": {
      "image/png": "[encoded data removed]",
      "text/latex": [
       "$$0 = - F + R_{1} + R_{2} - w \\left(- c + l\\right) + w \\left(- d + l\\right)$$"
      ],
      "text/plain": [
       "0 = -F + R₁ + R₂ - w⋅(-c + l) + w⋅(-d + l)"
      ]
     },
     "execution_count": 16,
     "metadata": {},
     "output_type": "execute_result"
    }
   ],
   "source": [
    "shear_expr = R1 - F - w * (l - c) + w * (l - d) + R2\n",
    "print_eq(0, shear_expr)"
   ]
  },
  {
   "cell_type": "code",
   "execution_count": 17,
   "metadata": {
    "collapsed": false
   },
   "outputs": [
    {
     "data": {
      "image/png": "[encoded data removed]",
      "text/latex": [
       "$$0 = - F \\left(- a + l\\right) - M + R_{1} l - \\frac{w}{2} \\left(- c + l\\right)^{2} + \\frac{w}{2} \\left(- d + l\\right)^{2}$$"
      ],
      "text/plain": [
       "                                       2             2\n",
       "                             w⋅(-c + l)    w⋅(-d + l) \n",
       "0 = -F⋅(-a + l) - M + R₁⋅l - ─────────── + ───────────\n",
       "                                  2             2     "
      ]
     },
     "execution_count": 17,
     "metadata": {},
     "output_type": "execute_result"
    }
   ],
   "source": [
    "moment_expr = R1 * l - F * (l - a) - M - w / 2 * (l - c)**2 + w / 2 * (l - d)**2\n",
    "print_eq(0, moment_expr)"
   ]
  },
  {
   "cell_type": "code",
   "execution_count": 18,
   "metadata": {
    "collapsed": false
   },
   "outputs": [
    {
     "data": {
      "image/png": "[encoded data removed]",
      "text/latex": [
       "$$\\left \\{ R_{1} : \\frac{1}{l} \\left(- F a + M + \\frac{c^{2} w}{2} - \\frac{d^{2} w}{2} + l \\left(F - c w + d w\\right)\\right), \\quad R_{2} : \\frac{1}{l} \\left(F a - M - \\frac{c^{2} w}{2} + \\frac{d^{2} w}{2}\\right)\\right \\}$$"
      ],
      "text/plain": [
       "⎧                2      2                                       2      2  ⎫\n",
       "⎪               c ⋅w   d ⋅w                                    c ⋅w   d ⋅w⎪\n",
       "⎪    -F⋅a + M + ──── - ──── + l⋅(F - c⋅w + d⋅w)      F⋅a - M - ──── + ────⎪\n",
       "⎨                2      2                                       2      2  ⎬\n",
       "⎪R₁: ──────────────────────────────────────────, R₂: ─────────────────────⎪\n",
       "⎪                        l                                     l          ⎪\n",
       "⎩                                                                         ⎭"
      ]
     },
     "execution_count": 18,
     "metadata": {},
     "output_type": "execute_result"
    }
   ],
   "source": [
    "solve([shear_expr, moment_expr], R1, R2)"
   ]
  },
  {
   "cell_type": "markdown",
   "metadata": {},
   "source": [
    "After you do all your symbolic algebra you may want to substitute in numerical values. You do so by passing in a dictionary of variable to number mappings."
   ]
  },
  {
   "cell_type": "code",
   "execution_count": 19,
   "metadata": {
    "collapsed": false
   },
   "outputs": [
    {
     "data": {
      "image/png": "[encoded data removed]",
      "text/latex": [
       "$$a + b^{2}$$"
      ],
      "text/plain": [
       "     2\n",
       "a + b "
      ]
     },
     "execution_count": 19,
     "metadata": {},
     "output_type": "execute_result"
    }
   ],
   "source": [
    "expr = a + b**2\n",
    "expr"
   ]
  },
  {
   "cell_type": "code",
   "execution_count": 20,
   "metadata": {
    "collapsed": false
   },
   "outputs": [
    {
     "data": {
      "image/png": "[encoded data removed]",
      "text/latex": [
       "$$37.4$$"
      ],
      "text/plain": [
       "37.4000000000000"
      ]
     },
     "execution_count": 20,
     "metadata": {},
     "output_type": "execute_result"
    }
   ],
   "source": [
    "expr.subs({a: 12.4, b: 5})"
   ]
  },
  {
   "cell_type": "markdown",
   "metadata": {},
   "source": [
    "Sometimes you may need to use `evalf()` to force numerical evaluations."
   ]
  },
  {
   "cell_type": "code",
   "execution_count": 21,
   "metadata": {
    "collapsed": false
   },
   "outputs": [
    {
     "data": {
      "image/png": "[encoded data removed]",
      "text/latex": [
       "$$5 + 3.5213633723318 \\pi$$"
      ],
      "text/plain": [
       "5 + 3.5213633723318⋅π"
      ]
     },
     "execution_count": 21,
     "metadata": {},
     "output_type": "execute_result"
    }
   ],
   "source": [
    "expr = pi * sqrt(a) + b\n",
    "expr.subs({a: 12.4, b: 5})"
   ]
  },
  {
   "cell_type": "code",
   "execution_count": 22,
   "metadata": {
    "collapsed": false
   },
   "outputs": [
    {
     "data": {
      "image/png": "[encoded data removed]",
      "text/latex": [
       "$$16.0626893011378$$"
      ],
      "text/plain": [
       "16.0626893011378"
      ]
     },
     "execution_count": 22,
     "metadata": {},
     "output_type": "execute_result"
    }
   ],
   "source": [
    "expr.subs({a: 12.4, b: 5}).evalf()"
   ]
  },
  {
   "cell_type": "markdown",
   "metadata": {},
   "source": [
    "You can also make use of units so that conversions automatically happen. SymPy currently does not support US Customary Units."
   ]
  },
  {
   "cell_type": "code",
   "execution_count": 23,
   "metadata": {
    "collapsed": true
   },
   "outputs": [],
   "source": [
    "from sympy.physics.units import *"
   ]
  },
  {
   "cell_type": "code",
   "execution_count": 24,
   "metadata": {
    "collapsed": true
   },
   "outputs": [],
   "source": [
    "l1 = 10 * meter\n",
    "l2 = 20 * centi * meter"
   ]
  },
  {
   "cell_type": "code",
   "execution_count": 25,
   "metadata": {
    "collapsed": false
   },
   "outputs": [
    {
     "data": {
      "image/png": "[encoded data removed]",
      "text/latex": [
       "$$10.2 m$$"
      ],
      "text/plain": [
       "10.2⋅m"
      ]
     },
     "execution_count": 25,
     "metadata": {},
     "output_type": "execute_result"
    }
   ],
   "source": [
    "(l1 + l2).evalf()"
   ]
  },
  {
   "cell_type": "markdown",
   "metadata": {},
   "source": [
    "# Exercise\n",
    "\n",
    "Draw a free body diagram for this problem then write the necessary equations and solve the problem using SymPy.\n",
    "\n",
    "![](fbd.jpg)\n",
    "\n"
   ]
  },
  {
   "cell_type": "code",
   "execution_count": null,
   "metadata": {
    "collapsed": true
   },
   "outputs": [],
   "source": []
  },
  {
   "cell_type": "markdown",
   "metadata": {},
   "source": [
    "# Exercise\n",
    "\n",
    "Draw a free body diagram for this problem then write the necessary equations and solve the problem using SymPy.\n",
    "\n",
    "![](internal-load.jpg)"
   ]
  }
 ],
 "metadata": {
  "anaconda-cloud": {},
  "kernelspec": {
   "display_name": "Python [conda root]",
   "language": "python",
   "name": "conda-root-py"
  },
  "language_info": {
   "codemirror_mode": {
    "name": "ipython",
    "version": 3
   },
   "file_extension": ".py",
   "mimetype": "text/x-python",
   "name": "python",
   "nbconvert_exporter": "python",
   "pygments_lexer": "ipython3",
   "version": "3.5.2"
  }
 },
 "nbformat": 4,
 "nbformat_minor": 1
}
