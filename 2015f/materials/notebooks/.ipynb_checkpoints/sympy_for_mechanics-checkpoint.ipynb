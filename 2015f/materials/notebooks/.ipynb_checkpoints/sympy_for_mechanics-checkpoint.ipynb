{
 "cells": [
  {
   "cell_type": "markdown",
   "metadata": {},
   "source": [
    "# SymPy Basics\n",
    "\n",
    "- Jupyter basics\n",
    "- init_printing\n",
    "- printing expressions\n",
    "- defining variables\n",
    "- assumptions\n",
    "- creating expressions\n",
    "- differentiation\n",
    "- integrating (indef, def)\n",
    "- solve\n",
    "- subs\n",
    "- evalf\n",
    "- units\n",
    "- lambdify"
   ]
  },
  {
   "cell_type": "code",
   "execution_count": null,
   "metadata": {
    "collapsed": true
   },
   "outputs": [],
   "source": []
  },
  {
   "cell_type": "markdown",
   "metadata": {},
   "source": [
    "# Solving Systems of Equations\n",
    "\n",
    "From earlier problem:"
   ]
  },
  {
   "cell_type": "code",
   "execution_count": null,
   "metadata": {
    "collapsed": true
   },
   "outputs": [],
   "source": [
    "R1, R2, F, w, l, a, c, d = symbols('R1, R2, F, w, l, a, c, d')"
   ]
  },
  {
   "cell_type": "code",
   "execution_count": null,
   "metadata": {
    "collapsed": true
   },
   "outputs": [],
   "source": [
    "shear_expr = R1 - F - w * (l - c) + w * (l - d) + R2\n",
    "print_eq(0, shear_expr)"
   ]
  },
  {
   "cell_type": "code",
   "execution_count": null,
   "metadata": {
    "collapsed": true
   },
   "outputs": [],
   "source": [
    "moment_expr = R1 * l - F * (l - a) - M - w / 2 * (l - c)**2 + w / 2 * (l - d)**2\n",
    "print_eq(0, moment_expr)"
   ]
  },
  {
   "cell_type": "markdown",
   "metadata": {},
   "source": [
    "# Exercise\n",
    "\n",
    "Draw a free body diagram for this problem then write the necessary equations and solve the problem using SymPy.\n",
    "\n",
    "![](fbd.jpg)\n",
    "\n"
   ]
  },
  {
   "cell_type": "code",
   "execution_count": null,
   "metadata": {
    "collapsed": true
   },
   "outputs": [],
   "source": []
  },
  {
   "cell_type": "markdown",
   "metadata": {},
   "source": [
    "# Exercise\n",
    "\n",
    "Draw a free body diagram for this problem then write the necessary equations and solve the problem using SymPy.\n",
    "\n",
    "![](internal-load.jpg)"
   ]
  },
  {
   "cell_type": "code",
   "execution_count": null,
   "metadata": {
    "collapsed": true
   },
   "outputs": [],
   "source": []
  }
 ],
 "metadata": {
  "anaconda-cloud": {},
  "kernelspec": {
   "display_name": "Python [conda root]",
   "language": "python",
   "name": "conda-root-py"
  },
  "language_info": {
   "codemirror_mode": {
    "name": "ipython",
    "version": 3
   },
   "file_extension": ".py",
   "mimetype": "text/x-python",
   "name": "python",
   "nbconvert_exporter": "python",
   "pygments_lexer": "ipython3",
   "version": "3.5.2"
  }
 },
 "nbformat": 4,
 "nbformat_minor": 1
}
